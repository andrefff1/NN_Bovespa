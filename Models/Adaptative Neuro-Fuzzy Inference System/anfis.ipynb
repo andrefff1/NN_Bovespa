{
 "cells": [
  {
   "cell_type": "code",
   "execution_count": 43,
   "id": "7e30f1c7-315e-43a2-a91f-348f616a3c39",
   "metadata": {},
   "outputs": [
    {
     "name": "stdout",
     "output_type": "stream",
     "text": [
      "Rule Centers: [[ 0.03938546 -0.05611092  0.06268504 -0.08145881 -0.05633687 -0.05524024\n",
      "  -0.44825956 -0.25503524 -0.13913047 -0.11405156 -0.03521143]\n",
      " [ 0.03938067 -0.05340169  0.10114783  0.19014632 -0.05574183 -0.05320303\n",
      "  -0.4138486  -0.22370062 -0.13578946 -0.11405156 -0.02256604]]\n",
      "<class 'numpy.ndarray'>\n"
     ]
    }
   ],
   "source": [
    "# Importing necessary libraries\n",
    "\n",
    "import pandas as pd\n",
    "import numpy as np\n",
    "from scipy.spatial.distance import pdist, squareform\n",
    "import pickle\n",
    "from sklearn.preprocessing import StandardScaler\n",
    "\n",
    "# Extract data\n",
    "data = pd.read_csv('../../ETL/Load/stockData.csv', header=(0), sep=';')\n",
    "\n",
    "# Replace inf values by very large number\n",
    "data.replace(np.inf, 1e20, inplace=True)\n",
    "\n",
    "# Separate train data\n",
    "# Train: first 8 years\n",
    "data['DATE'] = pd.to_datetime(data['DATE'])\n",
    "data_train = data[data['DATE'].dt.year <= 2021]\n",
    "\n",
    "# Change data to numpy\n",
    "data_train = data_train.to_numpy()\n",
    "\n",
    "# Get number of rows and columns\n",
    "ncol = data.shape[1]\n",
    "\n",
    "# Get arrays for features and class\n",
    "y_train = data_train[:,-1]\n",
    "X_train = data_train[:,2:ncol-1]\n",
    "\n",
    "# Scale the data\n",
    "scaler = StandardScaler().fit(X_train)\n",
    "X_train = scaler.transform(X_train)\n",
    "\n",
    "# Convert y to integer\n",
    "y_train = y_train.astype(int)\n",
    "\n",
    "# Set the number of rules\n",
    "number_of_rules = 2\n",
    "\n",
    "# Subtractive clustering with radius = 0.2\n",
    "def subtractive_clustering(X, number_of_rules, radius=0.2):\n",
    "    # Compute pairwise distances between points\n",
    "    d = pdist(X, 'euclidean')\n",
    "    d_squareform = squareform(d) # Distance matrix between points\n",
    "    # Calculate potential for each point\n",
    "    potential = np.sum(np.exp(-d_squareform**2 / (radius/2**2)), axis=1)\n",
    "    # Sort by potential and select highest point\n",
    "    idx = np.argsort(potential)[::-1][0]\n",
    "    # Start rule center with highest potential point as a cluster center\n",
    "    rule_centers = X[idx]\n",
    "    # If number of rules is larger than 1, continue algorithym for the following cluster centers\n",
    "    if number_of_rules > 1:\n",
    "        for i in range(number_of_rules-1):\n",
    "            potential_star = potential[idx]\n",
    "            X_star = X[idx]\n",
    "            distances = np.sqrt(np.sum((X - X_star) ** 2, axis=1))\n",
    "            potential = potential - potential_star*np.exp(-distances**2 / (radius/2**2))\n",
    "            X_star = X[idx]\n",
    "            idx = np.argsort(potential)[::-1][0]\n",
    "            rule_centers = np.vstack((rule_centers, X[idx]))\n",
    "    return rule_centers\n",
    "\n",
    "\n",
    "# Apply clustering to get rule centers\n",
    "rule_centers = subtractive_clustering(X_train, number_of_rules, radius=0.2)\n",
    "print(\"Rule Centers:\", rule_centers)\n",
    "print(type(rule_centers))"
   ]
  },
  {
   "cell_type": "code",
   "execution_count": null,
   "id": "8289158c-05fd-4d73-b244-90f64ee0252c",
   "metadata": {},
   "outputs": [],
   "source": []
  },
  {
   "cell_type": "code",
   "execution_count": 2,
   "id": "c17e1e65-adf7-4392-8dda-0a2d5a7d8da0",
   "metadata": {},
   "outputs": [
    {
     "name": "stdout",
     "output_type": "stream",
     "text": [
      "[[['gaussmf', {'mean': 0.03938546467882528, 'sigma': 1.0}], ['gaussmf', {'mean': 0.0393634760079587, 'sigma': 1.0}]], [['gaussmf', {'mean': -0.05611092434842267, 'sigma': 1.0}], ['gaussmf', {'mean': -0.05611092434842267, 'sigma': 1.0}]]]\n"
     ]
    }
   ],
   "source": [
    "print(mf)"
   ]
  },
  {
   "cell_type": "code",
   "execution_count": 3,
   "id": "759510c8-4931-4cc3-b518-bd0972b14a43",
   "metadata": {},
   "outputs": [],
   "source": [
    "mfs = []\n",
    "for i in range(X_train.shape[1]):\n",
    "    mf = []\n",
    "    for j in range(number_of_rules):\n",
    "        mf.append(['gaussmf', {'mean': rule_centers[j][i], 'sigma': 1.0}])\n",
    "    mfs.append(mf)"
   ]
  },
  {
   "cell_type": "code",
   "execution_count": 4,
   "id": "20d1b20b-2a5c-459d-9105-86e79220f685",
   "metadata": {},
   "outputs": [
    {
     "name": "stdout",
     "output_type": "stream",
     "text": [
      "[[['gaussmf', {'mean': 0.03938546467882528, 'sigma': 1.0}], ['gaussmf', {'mean': 0.0393634760079587, 'sigma': 1.0}]], [['gaussmf', {'mean': -0.05611092434842267, 'sigma': 1.0}], ['gaussmf', {'mean': -0.05611092434842267, 'sigma': 1.0}]], [['gaussmf', {'mean': 0.06268503658898357, 'sigma': 1.0}], ['gaussmf', {'mean': 0.06268503658898357, 'sigma': 1.0}]], [['gaussmf', {'mean': -0.08145880873610509, 'sigma': 1.0}], ['gaussmf', {'mean': -0.08145880873610509, 'sigma': 1.0}]], [['gaussmf', {'mean': -0.05633687074392936, 'sigma': 1.0}], ['gaussmf', {'mean': -0.056330170080381235, 'sigma': 1.0}]], [['gaussmf', {'mean': -0.0552402425359551, 'sigma': 1.0}], ['gaussmf', {'mean': -0.055278934565831245, 'sigma': 1.0}]], [['gaussmf', {'mean': -0.448259563127543, 'sigma': 1.0}], ['gaussmf', {'mean': -0.448259563127543, 'sigma': 1.0}]], [['gaussmf', {'mean': -0.2550352432599483, 'sigma': 1.0}], ['gaussmf', {'mean': -0.2550352432599483, 'sigma': 1.0}]], [['gaussmf', {'mean': -0.13913047128304148, 'sigma': 1.0}], ['gaussmf', {'mean': -0.13913047128304148, 'sigma': 1.0}]], [['gaussmf', {'mean': -0.11405156296232326, 'sigma': 1.0}], ['gaussmf', {'mean': -0.11405156296232326, 'sigma': 1.0}]], [['gaussmf', {'mean': -0.03521143214526468, 'sigma': 1.0}], ['gaussmf', {'mean': -0.03521143214526468, 'sigma': 1.0}]]]\n"
     ]
    }
   ],
   "source": [
    "print(mfs)"
   ]
  },
  {
   "cell_type": "code",
   "execution_count": 5,
   "id": "af6f54ca-cda6-4e2a-8999-82b5c66a0462",
   "metadata": {},
   "outputs": [
    {
     "data": {
      "text/plain": [
       "2"
      ]
     },
     "execution_count": 5,
     "metadata": {},
     "output_type": "execute_result"
    }
   ],
   "source": [
    "number_of_rules"
   ]
  },
  {
   "cell_type": "code",
   "execution_count": 6,
   "id": "7e8c244f-9f08-43c4-8704-32e3e8b2e0bd",
   "metadata": {},
   "outputs": [
    {
     "data": {
      "text/plain": [
       "range(0, 2)"
      ]
     },
     "execution_count": 6,
     "metadata": {},
     "output_type": "execute_result"
    }
   ],
   "source": [
    "range(number_of_rules)"
   ]
  },
  {
   "cell_type": "code",
   "execution_count": 7,
   "id": "d547edb5-164c-4ac3-8b05-1ef512d52fc0",
   "metadata": {},
   "outputs": [
    {
     "name": "stdout",
     "output_type": "stream",
     "text": [
      "0\n",
      "1\n"
     ]
    }
   ],
   "source": [
    "for j in range(number_of_rules):\n",
    "    print(j)"
   ]
  },
  {
   "cell_type": "code",
   "execution_count": 8,
   "id": "f736b9a7-fc00-4799-bdf6-89b3cac1c879",
   "metadata": {},
   "outputs": [
    {
     "data": {
      "text/plain": [
       "array([[ 0.03938546, -0.05611092,  0.06268504, -0.08145881, -0.05633687,\n",
       "        -0.05524024, -0.44825956, -0.25503524, -0.13913047, -0.11405156,\n",
       "        -0.03521143],\n",
       "       [ 0.03936348, -0.05611092,  0.06268504, -0.08145881, -0.05633017,\n",
       "        -0.05527893, -0.44825956, -0.25503524, -0.13913047, -0.11405156,\n",
       "        -0.03521143]])"
      ]
     },
     "execution_count": 8,
     "metadata": {},
     "output_type": "execute_result"
    }
   ],
   "source": [
    "rule_centers"
   ]
  },
  {
   "cell_type": "code",
   "execution_count": null,
   "id": "288ca3a9-9aff-4524-a44b-acd196a1219d",
   "metadata": {},
   "outputs": [],
   "source": []
  }
 ],
 "metadata": {
  "kernelspec": {
   "display_name": "Python 3 (ipykernel)",
   "language": "python",
   "name": "python3"
  },
  "language_info": {
   "codemirror_mode": {
    "name": "ipython",
    "version": 3
   },
   "file_extension": ".py",
   "mimetype": "text/x-python",
   "name": "python",
   "nbconvert_exporter": "python",
   "pygments_lexer": "ipython3",
   "version": "3.11.9"
  }
 },
 "nbformat": 4,
 "nbformat_minor": 5
}
