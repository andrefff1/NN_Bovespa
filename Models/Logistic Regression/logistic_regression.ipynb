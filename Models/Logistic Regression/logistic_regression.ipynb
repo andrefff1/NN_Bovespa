{
 "cells": [
  {
   "cell_type": "code",
   "execution_count": 1,
   "id": "d87cb703-633c-4dcf-99c0-9d38700b6cfe",
   "metadata": {},
   "outputs": [],
   "source": [
    "# Import libraries\n",
    "import random\n",
    "import pandas as pd\n",
    "import numpy as np\n",
    "import matplotlib.pyplot as plt\n",
    "from sklearn.preprocessing import StandardScaler\n",
    "from sklearn.linear_model import LogisticRegression\n",
    "from sklearn.metrics import accuracy_score, precision_score, recall_score, f1_score\n",
    "from sklearn.utils import resample, shuffle\n",
    "from sklearn.metrics import confusion_matrix, ConfusionMatrixDisplay"
   ]
  },
  {
   "cell_type": "code",
   "execution_count": 2,
   "id": "c2345cc4-4697-4fd2-9c39-04c248b4152e",
   "metadata": {},
   "outputs": [],
   "source": [
    "# Extract data\n",
    "data = pd.read_csv(f'../../ETL/Load/stockData.csv', header=(0), sep=';')"
   ]
  },
  {
   "cell_type": "code",
   "execution_count": 3,
   "id": "19ec8f10-41f5-46fe-8d36-c04b2146206d",
   "metadata": {},
   "outputs": [],
   "source": [
    "# Replace inf values by very large number\n",
    "data.replace(np.inf, 1e20, inplace=True)"
   ]
  },
  {
   "cell_type": "code",
   "execution_count": 4,
   "id": "a8c85d33-4e45-485d-baaa-c8e697045b54",
   "metadata": {},
   "outputs": [],
   "source": [
    "# Separate train and test data\n",
    "# Train: first 8 years\n",
    "# Test: last 2 years\n",
    "\n",
    "data['DATE'] = pd.to_datetime(data['DATE'])\n",
    "data_train = data[data['DATE'].dt.year <= 2021]\n",
    "data_test = data[data['DATE'].dt.year > 2021]"
   ]
  },
  {
   "cell_type": "code",
   "execution_count": 5,
   "id": "75d4195f-d9a5-456f-a60a-db70ee505fa2",
   "metadata": {},
   "outputs": [],
   "source": [
    "# Change data to numpy\n",
    "data_train = data_train.to_numpy()\n",
    "data_test = data_test.to_numpy()\n",
    "\n",
    "# Get number of rows and columns\n",
    "ncol = data.shape[1]\n",
    "\n",
    "# Get arrays for features and class\n",
    "y_train = data_train[:,-1]\n",
    "X_train = data_train[:,2:ncol-1]\n",
    "y_test = data_test[:,-1]\n",
    "X_test = data_test[:,2:ncol-1]"
   ]
  },
  {
   "cell_type": "code",
   "execution_count": 6,
   "id": "841976e2-3b81-42f0-8a9a-b1f7491f366c",
   "metadata": {},
   "outputs": [],
   "source": [
    "# Scale the data\n",
    "scaler = StandardScaler().fit(X_train)\n",
    "X_train = scaler.transform(X_train)"
   ]
  },
  {
   "cell_type": "code",
   "execution_count": 7,
   "id": "7a46584d-a72e-4fbf-85eb-64328908378d",
   "metadata": {},
   "outputs": [],
   "source": [
    "# Convert y to integer\n",
    "y_train = y_train.astype(int)\n",
    "y_test = y_test.astype(int)"
   ]
  },
  {
   "cell_type": "code",
   "execution_count": 8,
   "id": "4bbc9b29-f899-42f7-8ec3-331d9e8ce464",
   "metadata": {},
   "outputs": [],
   "source": [
    "# Upsample 1 Class\n",
    "# Convert X_train and y_train to DataFrame and Series, respectively\n",
    "X_train = pd.DataFrame(X_train)\n",
    "y_train = pd.Series(y_train)\n",
    "\n",
    "# Split the dataset by class\n",
    "X_train_majority = X_train[y_train == 0]\n",
    "X_train_minority = X_train[y_train == 1]\n",
    "\n",
    "y_train_majority = y_train[y_train == 0]\n",
    "y_train_minority = y_train[y_train == 1]\n",
    "\n",
    "# Resample minority class to match the majority class size\n",
    "X_train_minority_upsampled = resample(X_train_minority, \n",
    "                                      replace=True,     \n",
    "                                      n_samples=len(X_train_majority),  \n",
    "                                      random_state=42)\n",
    "\n",
    "y_train_minority_upsampled = resample(y_train_minority, \n",
    "                                      replace=True,     \n",
    "                                      n_samples=len(y_train_majority),  \n",
    "                                      random_state=42)\n",
    "\n",
    "# Combine majority class and upsampled minority class\n",
    "X_train_balanced = pd.concat([X_train_majority, X_train_minority_upsampled])\n",
    "y_train_balanced = pd.concat([y_train_majority, y_train_minority_upsampled])\n",
    "\n",
    "# Shuffle the data\n",
    "X_train_balanced, y_train_balanced = shuffle(X_train_balanced, y_train_balanced, random_state=42)"
   ]
  },
  {
   "cell_type": "code",
   "execution_count": 9,
   "id": "022857ec-f11a-4717-b877-574347429d20",
   "metadata": {},
   "outputs": [
    {
     "name": "stdout",
     "output_type": "stream",
     "text": [
      "Accuracy: 0.503420523138833\n",
      "Precision: 0.04019688269073011\n",
      "Recall (Sensitivity): 0.4336283185840708\n",
      "F1-Score: 0.07357357357357357\n"
     ]
    }
   ],
   "source": [
    "# Train Logistic Regression Model\n",
    "model = LogisticRegression(solver = 'lbfgs', max_iter = 1000)\n",
    "model.fit(X_train_balanced, y_train_balanced)\n",
    "\n",
    "# Scale test data\n",
    "X_test = scaler.transform(X_test)\n",
    "\n",
    "# Predict y with test data\n",
    "y_pred = model.predict(X_test)\n",
    "\n",
    "# Calculate accuracy\n",
    "accuracy = accuracy_score(y_test, y_pred)\n",
    "print(\"Accuracy:\", accuracy)\n",
    "\n",
    "# Calculate precision\n",
    "precision = precision_score(y_test, y_pred)\n",
    "print(\"Precision:\", precision)\n",
    "\n",
    "# Calculate recall (sensitivity)\n",
    "recall = recall_score(y_test, y_pred)\n",
    "print(\"Recall (Sensitivity):\", recall)\n",
    "\n",
    "# Calculate F1-score\n",
    "f1 = f1_score(y_test, y_pred)\n",
    "print(\"F1-Score:\", f1)\n",
    "\n"
   ]
  },
  {
   "cell_type": "code",
   "execution_count": 10,
   "id": "018ae348-64ad-433c-8405-b352d1d3c863",
   "metadata": {},
   "outputs": [
    {
     "name": "stdout",
     "output_type": "stream",
     "text": [
      "Coefficients: [[-8.20631623e-02 -1.82541103e-01 -1.28870092e-01  6.78765841e-02\n",
      "   2.22076873e-01 -6.80502788e-01 -3.42427770e-01  2.65287729e-01\n",
      "   3.89101708e-02 -3.26278693e-04  7.06461225e-02]]\n",
      "Intercept: [-0.06218089]\n",
      "Classes: [0 1]\n",
      "Iterations to Converge: [23]\n"
     ]
    }
   ],
   "source": [
    "# Information on the model\n",
    "print(\"Coefficients:\", model.coef_)\n",
    "print(\"Intercept:\", model.intercept_)\n",
    "print(\"Classes:\", model.classes_)\n",
    "print(\"Iterations to Converge:\", model.n_iter_)"
   ]
  },
  {
   "cell_type": "code",
   "execution_count": 11,
   "id": "48f009af-293d-48e8-81c3-b5598cb653b0",
   "metadata": {},
   "outputs": [
    {
     "data": {
      "image/png": "[encoded data removed]",
      "text/plain": [
       "<Figure size 640x480 with 2 Axes>"
      ]
     },
     "metadata": {},
     "output_type": "display_data"
    }
   ],
   "source": [
    "# Display the confusion matrix\n",
    "cm = confusion_matrix(y_test, y_pred)\n",
    "cm_display = ConfusionMatrixDisplay(confusion_matrix=cm, display_labels=model.classes_)\n",
    "cm_display.plot(cmap=plt.cm.Blues)\n",
    "plt.show()"
   ]
  },
  {
   "cell_type": "code",
   "execution_count": null,
   "id": "7bb7288a-6e70-4b6f-9132-a33260c4d8b0",
   "metadata": {},
   "outputs": [],
   "source": []
  }
 ],
 "metadata": {
  "kernelspec": {
   "display_name": "Python 3 (ipykernel)",
   "language": "python",
   "name": "python3"
  },
  "language_info": {
   "codemirror_mode": {
    "name": "ipython",
    "version": 3
   },
   "file_extension": ".py",
   "mimetype": "text/x-python",
   "name": "python",
   "nbconvert_exporter": "python",
   "pygments_lexer": "ipython3",
   "version": "3.11.9"
  }
 },
 "nbformat": 4,
 "nbformat_minor": 5
}
