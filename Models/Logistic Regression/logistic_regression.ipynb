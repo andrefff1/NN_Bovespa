{
 "cells": [
  {
   "cell_type": "code",
   "execution_count": 97,
   "id": "d87cb703-633c-4dcf-99c0-9d38700b6cfe",
   "metadata": {},
   "outputs": [],
   "source": [
    "# Import libraries\n",
    "import os\n",
    "import random\n",
    "import pandas as pd\n",
    "import numpy as np\n",
    "import matplotlib.pyplot as plt\n",
    "from sklearn.preprocessing import StandardScaler\n",
    "from sklearn.linear_model import LogisticRegression\n",
    "from sklearn.metrics import accuracy_score, precision_score, recall_score, f1_score\n",
    "from sklearn.utils import resample, shuffle\n",
    "from sklearn.metrics import confusion_matrix, ConfusionMatrixDisplay"
   ]
  },
  {
   "cell_type": "code",
   "execution_count": 50,
   "id": "c2345cc4-4697-4fd2-9c39-04c248b4152e",
   "metadata": {},
   "outputs": [],
   "source": [
    "# Extract data\n",
    "data = pd.read_csv(f'../../ETL/Load/stockData.csv', header=(0), sep=';')"
   ]
  },
  {
   "cell_type": "code",
   "execution_count": 51,
   "id": "a8c85d33-4e45-485d-baaa-c8e697045b54",
   "metadata": {},
   "outputs": [],
   "source": [
    "# Separate train and test data\n",
    "# Train: first 8 years\n",
    "# Test: last 2 years\n",
    "\n",
    "data['DATE'] = pd.to_datetime(data['DATE'])\n",
    "data_train = data[data['DATE'].dt.year <= 2021]\n",
    "data_test = data[data['DATE'].dt.year > 2021]"
   ]
  },
  {
   "cell_type": "code",
   "execution_count": 52,
   "id": "137b27ae-4baf-4e02-a6c7-0e80ccc4916c",
   "metadata": {},
   "outputs": [],
   "source": [
    "# Function to remove outliers using std\n",
    "def remove_outliers_std(data_train, data_test, column, factor = 3):\n",
    "    data_std = data_train[column].std()\n",
    "    data_mean = data_train[column].mean()\n",
    "    lower_bound = data_mean - factor * data_std\n",
    "    upper_bound = data_mean + factor * data_std\n",
    "    data_train = data_train[(data_train[column] >= lower_bound) & (data_train[column] <= upper_bound)]\n",
    "    data_test = data_test[(data_test[column] >= lower_bound) & (data_test[column] <= upper_bound)]\n",
    "    return data_train, data_test\n",
    "\n",
    "# Function to remove outliers using IQR\n",
    "def remove_outliers_iqr(data_train, data_test, column, factor = 1.5):\n",
    "    Q1 = data_train[column].quantile(0.25)\n",
    "    Q3 = data_train[column].quantile(0.75)\n",
    "    IQR = Q3 - Q1\n",
    "    lower_bound = Q1 - factor * IQR\n",
    "    upper_bound = Q3 + factor * IQR\n",
    "    data_train = data_train[(data_train[column] >= lower_bound) & (data_train[column] <= upper_bound)]\n",
    "    data_test = data_test[(data_test[column] >= lower_bound) & (data_test[column] <= upper_bound)]\n",
    "    return data_train, data_test"
   ]
  },
  {
   "cell_type": "code",
   "execution_count": 53,
   "id": "3f72b5ac-0d00-45cf-96d1-35b587c0425c",
   "metadata": {},
   "outputs": [],
   "source": [
    "# List of features and the class column\n",
    "features = data.columns.tolist()[2:-1]\n",
    "binary_class = data.columns.tolist()[-1]\n",
    "\n",
    "# Replace inf values by very large number\n",
    "data.replace(np.inf, 1e20, inplace=True)\n",
    "\n",
    "# Clean outliers from data\n",
    "method = 'iqr' # std or iqr\n",
    "factor = 9\n",
    "\n",
    "if method == 'std':\n",
    "    for feature in features:\n",
    "        data_train, data_test = remove_outliers_std(data_train, data_test, feature, factor)\n",
    "elif method == 'iqr':\n",
    "    for feature in features:\n",
    "        data_train, data_test = remove_outliers_iqr(data_train, data_test, feature, factor)"
   ]
  },
  {
   "cell_type": "code",
   "execution_count": 54,
   "id": "75d4195f-d9a5-456f-a60a-db70ee505fa2",
   "metadata": {},
   "outputs": [],
   "source": [
    "# Change data to numpy\n",
    "data_train = data_train.to_numpy()\n",
    "data_test = data_test.to_numpy()\n",
    "\n",
    "# Get number of rows and columns\n",
    "ncol = data.shape[1]\n",
    "\n",
    "# Get arrays for features and class\n",
    "y_train = data_train[:,-1]\n",
    "X_train = data_train[:,2:ncol-2]\n",
    "y_test = data_test[:,-1]\n",
    "X_test = data_test[:,2:ncol-2]"
   ]
  },
  {
   "cell_type": "code",
   "execution_count": 55,
   "id": "841976e2-3b81-42f0-8a9a-b1f7491f366c",
   "metadata": {},
   "outputs": [],
   "source": [
    "# Scale the data\n",
    "scaler = StandardScaler().fit(X_train)\n",
    "X_train = scaler.transform(X_train)"
   ]
  },
  {
   "cell_type": "code",
   "execution_count": 56,
   "id": "7a46584d-a72e-4fbf-85eb-64328908378d",
   "metadata": {},
   "outputs": [],
   "source": [
    "# Convert y to integer\n",
    "y_train = y_train.astype(int)\n",
    "y_test = y_test.astype(int)"
   ]
  },
  {
   "cell_type": "code",
   "execution_count": 57,
   "id": "4bbc9b29-f899-42f7-8ec3-331d9e8ce464",
   "metadata": {},
   "outputs": [],
   "source": [
    "# Upsample 1 Class\n",
    "# Convert X_train and y_train to DataFrame and Series, respectively\n",
    "X_train = pd.DataFrame(X_train)\n",
    "y_train = pd.Series(y_train)\n",
    "\n",
    "# Split the dataset by class\n",
    "X_train_majority = X_train[y_train == 0]\n",
    "X_train_minority = X_train[y_train == 1]\n",
    "\n",
    "y_train_majority = y_train[y_train == 0]\n",
    "y_train_minority = y_train[y_train == 1]\n",
    "\n",
    "# Resample minority class to match the majority class size\n",
    "X_train_minority_upsampled = resample(X_train_minority, \n",
    "                                      replace=True,     \n",
    "                                      n_samples=len(X_train_majority),  \n",
    "                                      random_state=42)\n",
    "\n",
    "y_train_minority_upsampled = resample(y_train_minority, \n",
    "                                      replace=True,     \n",
    "                                      n_samples=len(y_train_majority),  \n",
    "                                      random_state=42)\n",
    "\n",
    "# Combine majority class and upsampled minority class\n",
    "X_train_balanced = pd.concat([X_train_majority, X_train_minority_upsampled])\n",
    "y_train_balanced = pd.concat([y_train_majority, y_train_minority_upsampled])\n",
    "\n",
    "# Shuffle the data\n",
    "X_train_balanced, y_train_balanced = shuffle(X_train_balanced, y_train_balanced, random_state=42)"
   ]
  },
  {
   "cell_type": "code",
   "execution_count": 58,
   "id": "022857ec-f11a-4717-b877-574347429d20",
   "metadata": {},
   "outputs": [
    {
     "name": "stdout",
     "output_type": "stream",
     "text": [
      "Accuracy: 0.626078132927448\n",
      "Precision: 0.05922865013774105\n",
      "Recall (Sensitivity): 0.44329896907216493\n",
      "F1-Score: 0.10449574726609964\n"
     ]
    }
   ],
   "source": [
    "# Train Logistic Regression Model\n",
    "model = LogisticRegression(solver = 'lbfgs', max_iter = 1000)\n",
    "model.fit(X_train_balanced, y_train_balanced)\n",
    "\n",
    "# Scale test data\n",
    "X_test = scaler.transform(X_test)\n",
    "\n",
    "# Predict y with test data\n",
    "y_pred = model.predict(X_test)\n",
    "\n",
    "# Calculate accuracy\n",
    "accuracy = accuracy_score(y_test, y_pred)\n",
    "print(\"Accuracy:\", accuracy)\n",
    "\n",
    "# Calculate precision\n",
    "precision = precision_score(y_test, y_pred)\n",
    "print(\"Precision:\", precision)\n",
    "\n",
    "# Calculate recall (sensitivity)\n",
    "recall = recall_score(y_test, y_pred)\n",
    "print(\"Recall (Sensitivity):\", recall)\n",
    "\n",
    "# Calculate F1-score\n",
    "f1 = f1_score(y_test, y_pred)\n",
    "print(\"F1-Score:\", f1)\n",
    "\n"
   ]
  },
  {
   "cell_type": "code",
   "execution_count": 59,
   "id": "018ae348-64ad-433c-8405-b352d1d3c863",
   "metadata": {},
   "outputs": [
    {
     "name": "stdout",
     "output_type": "stream",
     "text": [
      "Coefficients: [[ 0.19774665  0.26637218  0.06998699 -0.20137946  0.23954361 -0.1994723\n",
      "  -0.24193129  0.14913883 -0.02565576 -0.08556958 -0.06871984]]\n",
      "Intercept: [-0.08834697]\n",
      "Classes: [0 1]\n",
      "Iterations to Converge: [10]\n"
     ]
    }
   ],
   "source": [
    "# Information on the model\n",
    "print(\"Coefficients:\", model.coef_)\n",
    "print(\"Intercept:\", model.intercept_)\n",
    "print(\"Classes:\", model.classes_)\n",
    "print(\"Iterations to Converge:\", model.n_iter_)"
   ]
  },
  {
   "cell_type": "code",
   "execution_count": 100,
   "id": "48f009af-293d-48e8-81c3-b5598cb653b0",
   "metadata": {},
   "outputs": [
    {
     "data": {
      "image/png": "[encoded data removed]",
      "text/plain": [
       "<Figure size 640x480 with 2 Axes>"
      ]
     },
     "metadata": {},
     "output_type": "display_data"
    }
   ],
   "source": [
    "# Display the confusion matrix\n",
    "cm = confusion_matrix(y_test, y_pred)\n",
    "cm_display = ConfusionMatrixDisplay(confusion_matrix=cm, display_labels=model.classes_)\n",
    "cm_display.plot(cmap=plt.cm.Blues)\n",
    "# Save the figure for cleaned data\n",
    "output_dir = 'Graphs'\n",
    "plt.savefig(os.path.join(output_dir, f'confusionMatrix_LR.png'))\n",
    "plt.show()"
   ]
  },
  {
   "cell_type": "code",
   "execution_count": 68,
   "id": "7bb7288a-6e70-4b6f-9132-a33260c4d8b0",
   "metadata": {},
   "outputs": [
    {
     "data": {
      "text/plain": [
       "0.049213597158802636"
      ]
     },
     "execution_count": 68,
     "metadata": {},
     "output_type": "execute_result"
    }
   ],
   "source": [
    "sum(data_test[:,14])/len(data_test[:,14])"
   ]
  },
  {
   "cell_type": "code",
   "execution_count": 85,
   "id": "c6268dee-0370-4d62-a6a1-4947e410d118",
   "metadata": {},
   "outputs": [],
   "source": [
    "TOTAL = len(data_test[:,14])"
   ]
  },
  {
   "cell_type": "code",
   "execution_count": 86,
   "id": "00e740df-0ff9-4190-8608-a06dbacf5f30",
   "metadata": {},
   "outputs": [],
   "source": [
    "P = sum(data_test[:,14])"
   ]
  },
  {
   "cell_type": "code",
   "execution_count": 87,
   "id": "f2f120fe-c197-47be-90e0-b4f80b1c6801",
   "metadata": {},
   "outputs": [
    {
     "data": {
      "text/plain": [
       "1874"
      ]
     },
     "execution_count": 87,
     "metadata": {},
     "output_type": "execute_result"
    }
   ],
   "source": [
    "N = len(data_test[:,14])-sum(data_test[:,14])\n",
    "N"
   ]
  },
  {
   "cell_type": "code",
   "execution_count": 88,
   "id": "13667b57-9073-44c5-a71c-720fec8b9bb5",
   "metadata": {},
   "outputs": [],
   "source": [
    "VP = sum(data_test[:,14])/2\n",
    "FN = P - VP"
   ]
  },
  {
   "cell_type": "code",
   "execution_count": 89,
   "id": "25919c42-35b9-4800-a57a-77f84fcd1f63",
   "metadata": {},
   "outputs": [],
   "source": [
    "VN = N/2\n",
    "FP = N - VN"
   ]
  },
  {
   "cell_type": "code",
   "execution_count": 94,
   "id": "017c957d-c894-46e2-9c57-afba899af3e9",
   "metadata": {},
   "outputs": [
    {
     "data": {
      "text/plain": [
       "0.5"
      ]
     },
     "execution_count": 94,
     "metadata": {},
     "output_type": "execute_result"
    }
   ],
   "source": [
    "(VP+VN)/(VP+VN+FP+FN)"
   ]
  },
  {
   "cell_type": "code",
   "execution_count": 95,
   "id": "77a411f2-04b1-492a-a75e-6d6aa49b5902",
   "metadata": {},
   "outputs": [
    {
     "data": {
      "text/plain": [
       "0.0895848506919155"
      ]
     },
     "execution_count": 95,
     "metadata": {},
     "output_type": "execute_result"
    }
   ],
   "source": [
    "2*0.0492*0.5/(0.0492+0.5)"
   ]
  },
  {
   "cell_type": "code",
   "execution_count": null,
   "id": "54788093-6bb0-431f-81b8-f3f48f0aec83",
   "metadata": {},
   "outputs": [],
   "source": []
  }
 ],
 "metadata": {
  "kernelspec": {
   "display_name": "Python 3 (ipykernel)",
   "language": "python",
   "name": "python3"
  },
  "language_info": {
   "codemirror_mode": {
    "name": "ipython",
    "version": 3
   },
   "file_extension": ".py",
   "mimetype": "text/x-python",
   "name": "python",
   "nbconvert_exporter": "python",
   "pygments_lexer": "ipython3",
   "version": "3.11.9"
  }
 },
 "nbformat": 4,
 "nbformat_minor": 5
}
